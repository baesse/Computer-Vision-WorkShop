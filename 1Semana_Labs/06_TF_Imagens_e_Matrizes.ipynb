{
 "cells": [
  {
   "cell_type": "markdown",
   "metadata": {},
   "source": [
    "# Neste Lab vamos aprender como trabalhar com imagens através de sua representação em matrizes"
   ]
  },
  {
   "cell_type": "code",
   "execution_count": null,
   "metadata": {},
   "outputs": [],
   "source": [
    "# Importações\n",
    "import matplotlib.image as mp_image\n",
    "import matplotlib.pyplot as plt\n",
    "import tensorflow as tf\n",
    "# Instalando o Pillow para poder ler o formato JPG\n",
    "!pip install Pillow"
   ]
  },
  {
   "cell_type": "code",
   "execution_count": null,
   "metadata": {},
   "outputs": [],
   "source": [
    "# Vamos importar a imagem a ver seus atributos\n",
    "filename = \"06_imagem.jpg\"\n",
    "input_image = mp_image.imread(filename)\n",
    "# Dimensão\n",
    "print ('input dim = {}'.format(input_image.ndim))\n",
    "# Shape\n",
    "print ('input shape = {}'.format(input_image.shape))"
   ]
  },
  {
   "cell_type": "code",
   "execution_count": null,
   "metadata": {},
   "outputs": [],
   "source": [
    "# Visualizando a imagem original\n",
    "plt.imshow(input_image)\n",
    "plt.show()"
   ]
  },
  {
   "cell_type": "code",
   "execution_count": null,
   "metadata": {},
   "outputs": [],
   "source": [
    "# Convertendo para o TensorFlow\n",
    "# Vamos definir que o tensor serão 3 matrizes de duas dimensões. 3 porque serão as 3 cores (RGB)\n",
    "# Como não sabemos ainda as cores, vamos utilizar 'None' nas duas primeiras dimensões \n",
    "my_image = tf.placeholder(\"uint8\",[None,None,3])"
   ]
  },
  {
   "cell_type": "code",
   "execution_count": null,
   "metadata": {},
   "outputs": [],
   "source": [
    "# Vamos definir uma função de cortar a imagem\n",
    "slice = tf.slice(my_image,[0,0,0],[100,100,-1])"
   ]
  },
  {
   "cell_type": "code",
   "execution_count": null,
   "metadata": {},
   "outputs": [],
   "source": [
    "# Vamos executar com o TF\n",
    "with tf.Session() as session:\n",
    "    # Na linha abaixo estamos transformando a imagem no formato matricial\n",
    "    result = session.run(slice, feed_dict = {my_image: input_image})\n",
    "    # Vamos ver a forma dessa matriz\n",
    "    print(result.shape)"
   ]
  },
  {
   "cell_type": "markdown",
   "metadata": {},
   "source": [
    "Veja que temos mp resultado 3 matrizes 100x100"
   ]
  },
  {
   "cell_type": "code",
   "execution_count": null,
   "metadata": {},
   "outputs": [],
   "source": [
    "# Imprimindo o resultado\n",
    "plt.imshow(result)\n",
    "plt.show()"
   ]
  },
  {
   "cell_type": "markdown",
   "metadata": {},
   "source": [
    "Ou seja, para o computador, tudo são números e cálculos matemáticos!\n",
    "\n",
    "**Visão Computacional** envolve, portanto, cálculos complexos com imagens convertidas em matrizes \n",
    "\n",
    "Essas matrizes são utilizadas para treinar Redes Neurais complexas, nas quais existem milhões de cálculos a serem feitos"
   ]
  }
 ],
 "metadata": {
  "kernelspec": {
   "display_name": "Python 3",
   "language": "python",
   "name": "python3"
  },
  "language_info": {
   "codemirror_mode": {
    "name": "ipython",
    "version": 3
   },
   "file_extension": ".py",
   "mimetype": "text/x-python",
   "name": "python",
   "nbconvert_exporter": "python",
   "pygments_lexer": "ipython3",
   "version": "3.6.6"
  }
 },
 "nbformat": 4,
 "nbformat_minor": 2
}
