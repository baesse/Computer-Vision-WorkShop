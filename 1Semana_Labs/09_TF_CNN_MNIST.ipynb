{
 "cells": [
  {
   "cell_type": "markdown",
   "metadata": {},
   "source": [
    "# Neste exercício vamos aprender como utilizar uma Rede Neural CNN para classificar imagens de dígitos"
   ]
  },
  {
   "cell_type": "code",
   "execution_count": 1,
   "metadata": {},
   "outputs": [],
   "source": [
    "# Importações\n",
    "import tensorflow as tf\n",
    "import matplotlib.pyplot as plt\n",
    "from datetime import datetime"
   ]
  },
  {
   "cell_type": "code",
   "execution_count": 2,
   "metadata": {},
   "outputs": [
    {
     "name": "stdout",
     "output_type": "stream",
     "text": [
      "Extracting MNIST_data/train-images-idx3-ubyte.gz\n",
      "Extracting MNIST_data/train-labels-idx1-ubyte.gz\n",
      "Extracting MNIST_data/t10k-images-idx3-ubyte.gz\n",
      "Extracting MNIST_data/t10k-labels-idx1-ubyte.gz\n"
     ]
    }
   ],
   "source": [
    "# Novamente vamos utilizar o Dataset MNIST\n",
    "# Importando o dataset MNIST (http://yann.lecun.com/exdb/mnist/)\n",
    "from tensorflow.examples.tutorials.mnist import input_data\n",
    "old_v = tf.logging.get_verbosity()\n",
    "tf.logging.set_verbosity(tf.logging.ERROR)\n",
    "mnist = input_data.read_data_sets(\"MNIST_data/\", one_hot=True)"
   ]
  },
  {
   "cell_type": "code",
   "execution_count": 3,
   "metadata": {},
   "outputs": [],
   "source": [
    "# Valores fixos relacionados à massa de treinamento\n",
    "n_input = 784 # MNIST data input (img shape: 28*28)\n",
    "n_classes = 10 # MNIST total classes (0-9 digits)"
   ]
  },
  {
   "cell_type": "markdown",
   "metadata": {},
   "source": [
    "Vamos criar agora os mesmos parâmetros, adicionando o dropout\n",
    "\n",
    "**dropout** - Utilizado para definir a remoção de alguns neurônios da rede ao final do treinamento, para evitar o overfitting"
   ]
  },
  {
   "cell_type": "code",
   "execution_count": 4,
   "metadata": {},
   "outputs": [],
   "source": [
    "# Parâmetros do treinamento\n",
    "learning_rate = 0.001\n",
    "training_iters = 100000\n",
    "batch_size = 128\n",
    "display_step = 10\n",
    "dropout = 0.75 # Dropout, probabilidade para manter unidades"
   ]
  },
  {
   "cell_type": "code",
   "execution_count": 5,
   "metadata": {},
   "outputs": [],
   "source": [
    "# Vamos definir os tensores, um para os dados de entrada, outro para o de saída e outro para o dropout\n",
    "x = tf.placeholder(\"float\", [None, n_input])\n",
    "y = tf.placeholder(\"float\", [None, n_classes])\n",
    "keep_prob = tf.placeholder(tf.float32) "
   ]
  },
  {
   "cell_type": "markdown",
   "metadata": {},
   "source": [
    "A diferença entre uma CNN e uma rede MLP é que o CNN preserva a proximidade dos pixels da imagens.\n",
    "\n",
    "Ou seja, ao invém de trabalhar com a imagems como uma sequência de pixels de uma dimensão, utilizada 2 dimensões, visto que imagens são representadas em 2D\n",
    "\n",
    "Para isso precisamos converter a entrada em matrizes 2D"
   ]
  },
  {
   "cell_type": "code",
   "execution_count": 6,
   "metadata": {},
   "outputs": [],
   "source": [
    "# Convertendo o input (x) para um tensor\n",
    "_X = tf.reshape(x, shape = [-1, 28, 28, 1])"
   ]
  },
  {
   "cell_type": "markdown",
   "metadata": {},
   "source": [
    "Agora vamos definir funções para criar o modelo de rede neural"
   ]
  },
  {
   "cell_type": "code",
   "execution_count": 7,
   "metadata": {},
   "outputs": [],
   "source": [
    "# A função tf.nn.conv2d() computa convoluções 2D a partir do tensor de input. A esse resultado adicionamos o bias.\n",
    "def conv2d(img, w, b):\n",
    "    return tf.nn.relu(tf.nn.bias_add(tf.nn.conv2d(img, w, strides = [1, 1, 1, 1], padding = 'VALID'), b))\n",
    "# Após a operação de convolução, realizamos o passo de pooling que simplifica a informação de output previamente criada pela camada de convolução.\n",
    "def max_pool(img, k):\n",
    "    return tf.nn.max_pool(img, ksize = [1, k, k, 1], strides = [1, k, k, 1], padding = 'VALID')"
   ]
  },
  {
   "cell_type": "markdown",
   "metadata": {},
   "source": [
    "O próximo passo é definir as variáveis que serão encontradas no treinamento, ou seja, os **pesos** e o **bias** de cada camada"
   ]
  },
  {
   "cell_type": "code",
   "execution_count": 8,
   "metadata": {},
   "outputs": [],
   "source": [
    "# Cada neurônio da camada oculta é conectado a um pequeno grupo de tensores de entrada (input) de dimensão 5x5. \n",
    "wc1 = tf.Variable(tf.random_normal([5, 5, 1, 32])) # 5x5 conv, 1 input, 32 outputs\n",
    "wc2 = tf.Variable(tf.random_normal([5, 5, 32, 64])) # 5x5 conv, 32 inputs, 64 outputs\n",
    "wd1 = tf.Variable(tf.random_normal([4*4*64, 1024])) # fully connected, 7*7*64 inputs, 1024 outputs\n",
    "wout = tf.Variable(tf.random_normal([1024, n_classes])) # 1024 inputs, 10 outputs (class prediction)\n",
    "# Bias\n",
    "bc1 = tf.Variable(tf.random_normal([32]))\n",
    "bc2 = tf.Variable(tf.random_normal([64]))\n",
    "bd1 = tf.Variable(tf.random_normal([1024]))\n",
    "bout = tf.Variable(tf.random_normal([n_classes]))"
   ]
  },
  {
   "cell_type": "markdown",
   "metadata": {},
   "source": [
    "Vamos agora utilizar as funções para criar nossa rede CNN"
   ]
  },
  {
   "cell_type": "code",
   "execution_count": 9,
   "metadata": {},
   "outputs": [],
   "source": [
    "# Camada 1 de convolução\n",
    "conv1 = conv2d(_X, wc1, bc1)\n",
    "\n",
    "# Max Pooling (down-sampling)\n",
    "conv1 = max_pool(conv1, k=2)\n",
    "\n",
    "# Aplicando o Dropout\n",
    "conv1 = tf.nn.dropout(conv1, keep_prob)\n",
    "\n",
    "# Camada 2 de convolução\n",
    "conv2 = conv2d(conv1,wc2,bc2)\n",
    "\n",
    "# Max Pooling (down-sampling)\n",
    "conv2 = max_pool(conv2, k=2)\n",
    "\n",
    "# Aplicando o Dropout\n",
    "conv2 = tf.nn.dropout(conv2, keep_prob)\n",
    "\n",
    "# Camada totalmente conectada\n",
    "dense1 = tf.reshape(conv2, [-1, wd1.get_shape().as_list()[0]]) # Reshape conv2 output to fit dense layer input\n",
    "dense1 = tf.nn.relu(tf.add(tf.matmul(dense1, wd1),bd1)) # Ativação com a Relu \n",
    "dense1 = tf.nn.dropout(dense1, keep_prob) # Aplicando Dropout\n",
    "\n",
    "# Output, class prediction\n",
    "pred = tf.add(tf.matmul(dense1, wout), bout)"
   ]
  },
  {
   "cell_type": "markdown",
   "metadata": {},
   "source": [
    "Pronto, o modelo da nossa rede está criado\n",
    "\n",
    "Resta agora definir a **função de custo** e a **função de otimização**"
   ]
  },
  {
   "cell_type": "code",
   "execution_count": 10,
   "metadata": {},
   "outputs": [],
   "source": [
    "# Cost Function e Otimização\n",
    "cost = tf.reduce_mean(tf.nn.softmax_cross_entropy_with_logits(logits = pred, labels = y))\n",
    "tf.summary.scalar('cost', cost)\n",
    "optimizer = tf.train.AdamOptimizer(learning_rate = learning_rate).minimize(cost)"
   ]
  },
  {
   "cell_type": "markdown",
   "metadata": {},
   "source": [
    "Adicionamente, vamos definir uma função para o cálculo da acurácia, para ser utilizada a cada passo"
   ]
  },
  {
   "cell_type": "code",
   "execution_count": 11,
   "metadata": {},
   "outputs": [
    {
     "data": {
      "text/plain": [
       "<tf.Tensor 'accuracy:0' shape=() dtype=string>"
      ]
     },
     "execution_count": 11,
     "metadata": {},
     "output_type": "execute_result"
    }
   ],
   "source": [
    "# Avaliando o Modelo\n",
    "correct_pred = tf.equal(tf.argmax(pred,1), tf.argmax(y,1))\n",
    "accuracy = tf.reduce_mean(tf.cast(correct_pred, tf.float32))\n",
    "tf.summary.scalar('accuracy', accuracy)"
   ]
  },
  {
   "cell_type": "markdown",
   "metadata": {},
   "source": [
    "Vamos executar agora o modelo no TF"
   ]
  },
  {
   "cell_type": "code",
   "execution_count": 12,
   "metadata": {},
   "outputs": [
    {
     "name": "stdout",
     "output_type": "stream",
     "text": [
      "Epoca 1280, Custo = 34380.898438, Acurácia = 0.17969\n",
      "Epoca 2560, Custo = 19602.656250, Acurácia = 0.31250\n",
      "Epoca 3840, Custo = 15049.205078, Acurácia = 0.30469\n",
      "Epoca 5120, Custo = 9929.851562, Acurácia = 0.44531\n",
      "Epoca 6400, Custo = 7491.719727, Acurácia = 0.53125\n",
      "Epoca 7680, Custo = 5935.214844, Acurácia = 0.55469\n",
      "Epoca 8960, Custo = 5620.400391, Acurácia = 0.57031\n",
      "Epoca 10240, Custo = 4577.681152, Acurácia = 0.64844\n",
      "Epoca 11520, Custo = 4480.894531, Acurácia = 0.70312\n",
      "Epoca 12800, Custo = 3130.116455, Acurácia = 0.73438\n",
      "Epoca 14080, Custo = 4444.544434, Acurácia = 0.73438\n",
      "Epoca 15360, Custo = 2501.298096, Acurácia = 0.78125\n",
      "Epoca 16640, Custo = 2218.397705, Acurácia = 0.79688\n",
      "Epoca 17920, Custo = 3204.916748, Acurácia = 0.81250\n",
      "Epoca 19200, Custo = 4361.585938, Acurácia = 0.69531\n",
      "Epoca 20480, Custo = 2115.239746, Acurácia = 0.78906\n",
      "Epoca 21760, Custo = 1872.511963, Acurácia = 0.84375\n",
      "Epoca 23040, Custo = 1902.634766, Acurácia = 0.81250\n",
      "Epoca 24320, Custo = 2036.056519, Acurácia = 0.82031\n",
      "Epoca 25600, Custo = 1524.592773, Acurácia = 0.84375\n",
      "Epoca 26880, Custo = 1878.952148, Acurácia = 0.86719\n",
      "Epoca 28160, Custo = 2353.411377, Acurácia = 0.75000\n",
      "Epoca 29440, Custo = 2163.221436, Acurácia = 0.79688\n",
      "Epoca 30720, Custo = 949.998291, Acurácia = 0.84375\n",
      "Epoca 32000, Custo = 800.908325, Acurácia = 0.87500\n",
      "Epoca 33280, Custo = 1315.465576, Acurácia = 0.85938\n",
      "Epoca 34560, Custo = 1268.565186, Acurácia = 0.89062\n",
      "Epoca 35840, Custo = 1761.063110, Acurácia = 0.80469\n",
      "Epoca 37120, Custo = 1403.764648, Acurácia = 0.84375\n",
      "Epoca 38400, Custo = 1285.864868, Acurácia = 0.84375\n",
      "Epoca 39680, Custo = 1108.030029, Acurácia = 0.85938\n",
      "Epoca 40960, Custo = 1821.376221, Acurácia = 0.85156\n",
      "Epoca 42240, Custo = 1124.673706, Acurácia = 0.87500\n",
      "Epoca 43520, Custo = 1337.713745, Acurácia = 0.85938\n",
      "Epoca 44800, Custo = 973.882080, Acurácia = 0.88281\n",
      "Epoca 46080, Custo = 852.019470, Acurácia = 0.85938\n",
      "Epoca 47360, Custo = 877.010559, Acurácia = 0.83594\n",
      "Epoca 48640, Custo = 1648.174805, Acurácia = 0.84375\n",
      "Epoca 49920, Custo = 1813.181152, Acurácia = 0.85156\n",
      "Epoca 51200, Custo = 618.791016, Acurácia = 0.88281\n",
      "Epoca 52480, Custo = 1204.034912, Acurácia = 0.87500\n",
      "Epoca 53760, Custo = 1082.704834, Acurácia = 0.88281\n",
      "Epoca 55040, Custo = 988.204773, Acurácia = 0.85938\n",
      "Epoca 56320, Custo = 593.961487, Acurácia = 0.91406\n",
      "Epoca 57600, Custo = 932.135986, Acurácia = 0.87500\n",
      "Epoca 58880, Custo = 870.658325, Acurácia = 0.88281\n",
      "Epoca 60160, Custo = 849.927673, Acurácia = 0.86719\n",
      "Epoca 61440, Custo = 1260.135376, Acurácia = 0.87500\n",
      "Epoca 62720, Custo = 448.808228, Acurácia = 0.92188\n",
      "Epoca 64000, Custo = 1039.850098, Acurácia = 0.89844\n",
      "Epoca 65280, Custo = 909.405090, Acurácia = 0.89844\n",
      "Epoca 66560, Custo = 907.735352, Acurácia = 0.88281\n",
      "Epoca 67840, Custo = 509.576721, Acurácia = 0.89062\n",
      "Epoca 69120, Custo = 658.570190, Acurácia = 0.87500\n",
      "Epoca 70400, Custo = 512.614746, Acurácia = 0.89062\n",
      "Epoca 71680, Custo = 538.613037, Acurácia = 0.90625\n",
      "Epoca 72960, Custo = 287.717773, Acurácia = 0.93750\n",
      "Epoca 74240, Custo = 571.140320, Acurácia = 0.89844\n",
      "Epoca 75520, Custo = 496.400146, Acurácia = 0.89062\n",
      "Epoca 76800, Custo = 573.787231, Acurácia = 0.91406\n",
      "Epoca 78080, Custo = 726.836609, Acurácia = 0.84375\n",
      "Epoca 79360, Custo = 597.129150, Acurácia = 0.85938\n",
      "Epoca 80640, Custo = 1007.253784, Acurácia = 0.85156\n",
      "Epoca 81920, Custo = 625.621887, Acurácia = 0.89844\n",
      "Epoca 83200, Custo = 509.768707, Acurácia = 0.92188\n",
      "Epoca 84480, Custo = 498.671173, Acurácia = 0.87500\n",
      "Epoca 85760, Custo = 381.160645, Acurácia = 0.89844\n",
      "Epoca 87040, Custo = 882.689453, Acurácia = 0.88281\n",
      "Epoca 88320, Custo = 619.105103, Acurácia = 0.89844\n",
      "Epoca 89600, Custo = 482.908569, Acurácia = 0.88281\n",
      "Epoca 90880, Custo = 484.614868, Acurácia = 0.89844\n",
      "Epoca 92160, Custo = 711.008911, Acurácia = 0.87500\n",
      "Epoca 93440, Custo = 874.118042, Acurácia = 0.80469\n",
      "Epoca 94720, Custo = 447.336609, Acurácia = 0.92188\n",
      "Epoca 96000, Custo = 363.866852, Acurácia = 0.91406\n",
      "Epoca 97280, Custo = 881.249756, Acurácia = 0.89062\n",
      "Epoca 98560, Custo = 683.608887, Acurácia = 0.88281\n",
      "Epoca 99840, Custo = 258.599365, Acurácia = 0.90625\n",
      "Treinamento Concluído com  100000  épocas!\n"
     ]
    },
    {
     "data": {
      "image/png": "[encoded data removed]",
      "text/plain": [
       "<Figure size 432x288 with 1 Axes>"
      ]
     },
     "metadata": {
      "needs_background": "light"
     },
     "output_type": "display_data"
    },
    {
     "name": "stdout",
     "output_type": "stream",
     "text": [
      "Acurácia final: 0.89453125\n"
     ]
    }
   ],
   "source": [
    "# Criando variáveis para plotar o gráfico ao final\n",
    "avg_cost_set = []\n",
    "epoch_set = []\n",
    "# Inicializando as variáveis\n",
    "init = tf.global_variables_initializer()\n",
    "# Sessão\n",
    "with tf.Session() as sess:\n",
    "    sess.run(init)\n",
    "    merged = tf.summary.merge_all()\n",
    "    now = datetime.now()\n",
    "    writer = tf.summary.FileWriter('logs_09/'+now.strftime(\"%Y%m%d-%H%M%S\"), sess.graph)\n",
    "    step = 1\n",
    "    # Mantém o treinamento até atingir o número máximo de iterações\n",
    "    while step * batch_size < training_iters:\n",
    "        batch_xs, batch_ys = mnist.train.next_batch(batch_size)\n",
    "        # Fit training , _ = usando batch data\n",
    "        train_summary, _ = sess.run([merged, optimizer], feed_dict = {x: batch_xs, y: batch_ys, keep_prob: dropout})\n",
    "        writer.add_summary(train_summary, step)\n",
    "        if step % display_step == 0:\n",
    "            # Calculando a acurácia\n",
    "            acc = sess.run(accuracy, feed_dict = {x: batch_xs, y: batch_ys, keep_prob: 1.})\n",
    "            # Calculando a perda\n",
    "            loss = sess.run(cost, feed_dict = {x: batch_xs, y: batch_ys, keep_prob: 1.})\n",
    "            print (\"Epoca \" + str(step*batch_size) + \", Custo = \" + \"{:.6f}\".format(loss) + \", Acurácia = \" + \"{:.5f}\".format(acc))\n",
    "            avg_cost_set.append(loss)\n",
    "            epoch_set.append(step)\n",
    "        step += 1\n",
    "    print (\"Treinamento Concluído com \",training_iters,\" épocas!\")\n",
    "    writer.close()\n",
    "\n",
    "    # Vamos plotar ao final o gráfico de custo por época de treinamento\n",
    "    plt.plot(epoch_set,avg_cost_set, '-', label = 'Custo')\n",
    "    plt.ylabel('Custo')\n",
    "    plt.xlabel('Epoch')\n",
    "    plt.legend()\n",
    "    plt.show()\n",
    "    \n",
    "    # Calculando acurácia para 256 mnist test images\n",
    "    print (\"Acurácia final:\", sess.run(accuracy, feed_dict = {x: mnist.test.images[:256], y: mnist.test.labels[:256], keep_prob: 1.}))\n"
   ]
  },
  {
   "cell_type": "markdown",
   "metadata": {},
   "source": [
    "Abra o **TensorBoard** utilizando o comando abaixo e veja os gráficos de custo e acurácia gerados:\n",
    "    \n",
    "python -m tensorboard.main --logdir=\"logs_09\""
   ]
  },
  {
   "cell_type": "markdown",
   "metadata": {},
   "source": [
    "# Exercício:\n",
    "\n",
    "Modifique os parâmetros de treinamento e da rede e rode novamente a rede para ver se consegue melhorar o resultado\n",
    "\n",
    "Registre em uma planilha Excel os valores utilizados para cada treinamento e os valores de **custo** e **acurácia** final obtidos\n",
    "\n",
    "## Responda:\n",
    "\n",
    "- Qual a influência do learning_rate?\n",
    "- Qual a influência do batch_size?\n",
    "- Qual a influência da quantidade de épocas?\n",
    "- Qual a influência do parâmetro dropout?"
   ]
  }
 ],
 "metadata": {
  "kernelspec": {
   "display_name": "Python 3",
   "language": "python",
   "name": "python3"
  },
  "language_info": {
   "codemirror_mode": {
    "name": "ipython",
    "version": 3
   },
   "file_extension": ".py",
   "mimetype": "text/x-python",
   "name": "python",
   "nbconvert_exporter": "python",
   "pygments_lexer": "ipython3",
   "version": "3.6.6"
  }
 },
 "nbformat": 4,
 "nbformat_minor": 2
}
