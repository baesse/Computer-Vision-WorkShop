{
 "cells": [
  {
   "cell_type": "markdown",
   "metadata": {},
   "source": [
    "# Neste Lab vamos aprender o que são Tensores no TF"
   ]
  },
  {
   "cell_type": "markdown",
   "metadata": {},
   "source": [
    "Tensores são as estruturas de dados básicas no TensorFlow.\n",
    "\n",
    "Um **tensor** simplesmente identifica uma matriz ou lista multidimensional.\n",
    "\n",
    "A maiora das soluções de Inteligência Artificial modela os dados de entrada como tensores, ou seja, matrizes.\n",
    "\n",
    "Uma imagem, por exemplo, é convertida para 3 matrizes de pixels para cada cor, e essas matrizes são utilizadas nos cálculos "
   ]
  },
  {
   "cell_type": "code",
   "execution_count": null,
   "metadata": {},
   "outputs": [],
   "source": [
    "# Importações\n",
    "import tensorflow as tf"
   ]
  },
  {
   "cell_type": "code",
   "execution_count": null,
   "metadata": {},
   "outputs": [],
   "source": [
    "# Criando um array numpy de uma dimensão\n",
    "# Numpy é uma biblioteca escrita em C que permite à linguagem python executar operações com matrizes de forma muito rápida\n",
    "import numpy as np\n",
    "tensor_1d = np.array([1.3,1,4.0,23.99])"
   ]
  },
  {
   "cell_type": "code",
   "execution_count": null,
   "metadata": {},
   "outputs": [],
   "source": [
    "print (tensor_1d)"
   ]
  },
  {
   "cell_type": "code",
   "execution_count": null,
   "metadata": {},
   "outputs": [],
   "source": [
    "# Convertendo o array numpy para tensorflow\n",
    "tf_tensor = tf.convert_to_tensor(tensor_1d, dtype = tf.float64)\n",
    "with tf.Session() as sess:\n",
    "    print (sess.run(tf_tensor))"
   ]
  },
  {
   "cell_type": "code",
   "execution_count": null,
   "metadata": {},
   "outputs": [],
   "source": [
    "# Criando array numpy bidimensional\n",
    "tensor_2d = np.array([(1,2,3,4),(4,5,6,7),(8,9,10,11),(12,13,14,15)])\n",
    "# Print\n",
    "print (tensor_2d)"
   ]
  },
  {
   "cell_type": "code",
   "execution_count": null,
   "metadata": {},
   "outputs": [],
   "source": [
    "# Convertendo o array numpy para tensorflow\n",
    "tf_tensor = tf.convert_to_tensor(tensor_2d, dtype = tf.float64)\n",
    "with tf.Session() as sess:\n",
    "    print (sess.run(tf_tensor))"
   ]
  },
  {
   "cell_type": "code",
   "execution_count": null,
   "metadata": {},
   "outputs": [],
   "source": [
    "# Cria o tensor tridimensional\n",
    "tensor_3d = np.array([[[1,2],[3,4]],[[5,6],[7,8]]]) \n",
    "print(tensor_3d)"
   ]
  },
  {
   "cell_type": "code",
   "execution_count": null,
   "metadata": {},
   "outputs": [],
   "source": [
    "tensor_3d.shape"
   ]
  },
  {
   "cell_type": "code",
   "execution_count": null,
   "metadata": {},
   "outputs": [],
   "source": [
    "# Convertendo o array numpy para tensorflow\n",
    "tf_tensor = tf.convert_to_tensor(tensor_3d, dtype = tf.float64)\n",
    "with tf.Session() as sess:\n",
    "    print (sess.run(tf_tensor))"
   ]
  },
  {
   "cell_type": "markdown",
   "metadata": {},
   "source": [
    "Podemos trabalhar com arrays multidimensionais dentro do TF para resolução de problemas complexos \n",
    "\n",
    "Vamos ver como realizar o produto, soma e cálculo do determinante de matrizes, operações complexas e caras "
   ]
  },
  {
   "cell_type": "code",
   "execution_count": null,
   "metadata": {},
   "outputs": [],
   "source": [
    "# Definido duas matrizes\n",
    "matrix1 = np.array([(2,2,2),(2,2,2),(2,2,2)], dtype = 'int32') \n",
    "matrix2 = np.array([(1,1,1),(1,1,1),(1,1,1)], dtype = 'int32')\n",
    "matrix3 = np.array([(2,7,2),(1,4,2),(9,0,2)], dtype = 'float32') \n",
    "print (\"matrix1 =\") \n",
    "print (matrix1)\n",
    "print (\"matrix2 =\") \n",
    "print (matrix2)\n",
    "print (\"matrix3 =\") \n",
    "print (matrix3)"
   ]
  },
  {
   "cell_type": "code",
   "execution_count": null,
   "metadata": {},
   "outputs": [],
   "source": [
    "# Vamos executar o produto, soma e cálculo do determinante no TF\n",
    "matrix_product = tf.matmul(matrix1, matrix2)\n",
    "matrix_sum = tf.add(matrix1, matrix2)\n",
    "matrix_det = tf.matrix_determinant(matrix_3)\n",
    "with tf.Session() as sess: \n",
    "    result1 = sess.run(matrix_product) \n",
    "    result2 = sess.run(matrix_sum) \n",
    "    result3 = sess.run(matrix_det)\n",
    "print (\"matrix1 * matrix2 =\")\n",
    "print (result1) \n",
    "print (\"matrix1 + matrix2 =\")\n",
    "print (result2) \n",
    "print (\"matrix3 determinant result =\")\n",
    "print (result3)"
   ]
  },
  {
   "cell_type": "markdown",
   "metadata": {},
   "source": [
    "No próximo exemplo vamos começar a trabalhar com a representação matricial de uma imagem"
   ]
  }
 ],
 "metadata": {
  "kernelspec": {
   "display_name": "Python 3",
   "language": "python",
   "name": "python3"
  },
  "language_info": {
   "codemirror_mode": {
    "name": "ipython",
    "version": 3
   },
   "file_extension": ".py",
   "mimetype": "text/x-python",
   "name": "python",
   "nbconvert_exporter": "python",
   "pygments_lexer": "ipython3",
   "version": "3.6.6"
  }
 },
 "nbformat": 4,
 "nbformat_minor": 2
}
