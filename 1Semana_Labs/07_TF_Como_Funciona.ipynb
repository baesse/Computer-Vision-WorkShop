{
 "cells": [
  {
   "cell_type": "markdown",
   "metadata": {},
   "source": [
    "# Neste Lab vamos utilizar o TF para resolver um problema simples de regressão"
   ]
  },
  {
   "cell_type": "markdown",
   "metadata": {},
   "source": [
    "Você sabe o que é uma **função linear**? É uma função cuja forma é **y = Ax + B**\n",
    "\n",
    "O que vamos fazer neste laboratório é encontrar uma função linear que explique o comportamento de alguns dados, e vamos utilizar o TensorFlow para realizar os cálculos até encontrar a melhor função\n",
    "\n",
    "Encontrar a função significa encontrar os coeficientes **A e B** da função. \n",
    "\n",
    "Primeiro vamos elaborar uma massa de dados aleatórias que servirá de base para o nosso problema"
   ]
  },
  {
   "cell_type": "code",
   "execution_count": null,
   "metadata": {},
   "outputs": [],
   "source": [
    "# Importações\n",
    "import numpy as np\n",
    "import matplotlib.pyplot as plt\n",
    "import tensorflow as tf\n",
    "from datetime import datetime"
   ]
  },
  {
   "cell_type": "code",
   "execution_count": null,
   "metadata": {},
   "outputs": [],
   "source": [
    "# Vamos gerar dados aleatórios de X e Y\n",
    "number_of_points = 200\n",
    "x_point = []\n",
    "y_point = []\n",
    "a = 0.33\n",
    "b = 0.45\n",
    "# Através da função random.normal do NumPy, geramos 300 pontos aleatórios em torno da equação de regressão y = 0.22x + 0.78:\n",
    "for i in range(number_of_points):\n",
    "    x = np.random.normal(0.0,0.5)\n",
    "    y = a*x + b +np.random.normal(0.0,0.1)\n",
    "    x_point.append([x])\n",
    "    y_point.append([y])"
   ]
  },
  {
   "cell_type": "code",
   "execution_count": null,
   "metadata": {},
   "outputs": [],
   "source": [
    "# Visualizando os pontos de dados gerados\n",
    "plt.plot(x_point,y_point, 'o', label = 'Valores')\n",
    "plt.legend()\n",
    "plt.show()"
   ]
  },
  {
   "cell_type": "markdown",
   "metadata": {},
   "source": [
    "Vamos agora construir o algoritmo de aprendizagem\n",
    "\n",
    "Para isso vamos definir as duas variáveis do nosso problema e nossa equação no formato do TF\n",
    "\n",
    "Vamos utilizar como base para nossa equação os valores de x conhecidos"
   ]
  },
  {
   "cell_type": "code",
   "execution_count": null,
   "metadata": {},
   "outputs": [],
   "source": [
    "A = tf.Variable(tf.random_uniform([1], -1.0, 1.0))\n",
    "B = tf.Variable(tf.zeros([1]))\n",
    "y = A * x_point + B"
   ]
  },
  {
   "cell_type": "markdown",
   "metadata": {},
   "source": [
    "Em seguida, vamos definir a função de custo, ou seja, uma função que mede o quão longe uma solução proposta está longe do valor previsto"
   ]
  },
  {
   "cell_type": "code",
   "execution_count": null,
   "metadata": {},
   "outputs": [],
   "source": [
    "# Neste caso estamos utilizando a fórmula do erro quadrático médio\n",
    "cost_function = tf.reduce_mean(tf.square(y - y_point))\n",
    "tf.summary.scalar('cost', cost_function)"
   ]
  },
  {
   "cell_type": "markdown",
   "metadata": {},
   "source": [
    "Em seguida, precisamos de uma função de otimização, a qual vai calcular os valores de A e B que minimizam a função de custo"
   ]
  },
  {
   "cell_type": "code",
   "execution_count": null,
   "metadata": {},
   "outputs": [],
   "source": [
    "# Neste caso estamos utilizando a função gradiente descendente\n",
    "optimizer = tf.train.GradientDescentOptimizer(0.5)"
   ]
  },
  {
   "cell_type": "markdown",
   "metadata": {},
   "source": [
    "Podemos então definir como será o treinamento: vamos utilizar a função de otimização para minimizar a função de custo"
   ]
  },
  {
   "cell_type": "code",
   "execution_count": null,
   "metadata": {},
   "outputs": [],
   "source": [
    "train = optimizer.minimize(cost_function)"
   ]
  },
  {
   "cell_type": "markdown",
   "metadata": {},
   "source": [
    "Em seguida, vamos rodar o modelo criado com o Tensorflow"
   ]
  },
  {
   "cell_type": "code",
   "execution_count": null,
   "metadata": {},
   "outputs": [],
   "source": [
    "# Inicializando as variaveis\n",
    "init = tf.global_variables_initializer()\n",
    "# Executando o treinamento dentro de uma sessao do TF\n",
    "with tf.Session() as sess:\n",
    "    # Inicializando as variaveis\n",
    "    sess.run(init)\n",
    "    merged = tf.summary.merge_all()\n",
    "    now = datetime.now()\n",
    "    writer = tf.summary.FileWriter('logs_07/'+now.strftime(\"%Y%m%d-%H%M%S\"), sess.graph)\n",
    "    # Rodando vários passos de treinamento\n",
    "    for step in range(0,21):\n",
    "        train_summary, _ = sess.run([merged, train])\n",
    "        writer.add_summary(train_summary, step)\n",
    "        # A cada 5 passos, imprime a função linear com os valores obtidos de A e B\n",
    "        if (step % 5) == 0:\n",
    "            plt.plot(x_point, y_point, 'o',label = 'step = {}'.format(step))\n",
    "            plt.plot(x_point, sess.run(A) * x_point + sess.run(B))\n",
    "            plt.legend()\n",
    "            plt.show()"
   ]
  },
  {
   "cell_type": "code",
   "execution_count": null,
   "metadata": {},
   "outputs": [],
   "source": [
    "# Armazenando os dados da sessão em um diretório de log para visualização do grafo no TensorBoard\n",
    "with tf.Session() as session:\n",
    "    merged = tf.summary.merge_all()\n",
    "    writer = tf.summary.FileWriter(\"logs_07\", session.graph)\n",
    "    session.run(init)\n",
    "    session.run(y)"
   ]
  },
  {
   "cell_type": "markdown",
   "metadata": {},
   "source": [
    "Abra o TensorBoard utilizando o comando abaixo e veja o grafo gerado:\n",
    "    \n",
    "python -m tensorboard.main --logdir=\"logs_07\""
   ]
  },
  {
   "cell_type": "markdown",
   "metadata": {},
   "source": [
    "# Exercício:\n",
    "\n",
    "Modifique a quantidade de passos de treinamento para ver se consegue melhorar a acurácia\n",
    "\n",
    "Qual o melhor percentual foi obtido?"
   ]
  }
 ],
 "metadata": {
  "kernelspec": {
   "display_name": "Python 3",
   "language": "python",
   "name": "python3"
  },
  "language_info": {
   "codemirror_mode": {
    "name": "ipython",
    "version": 3
   },
   "file_extension": ".py",
   "mimetype": "text/x-python",
   "name": "python",
   "nbconvert_exporter": "python",
   "pygments_lexer": "ipython3",
   "version": "3.6.6"
  }
 },
 "nbformat": 4,
 "nbformat_minor": 2
}
