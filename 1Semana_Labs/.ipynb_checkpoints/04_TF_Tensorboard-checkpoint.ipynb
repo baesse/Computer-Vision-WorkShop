{
 "cells": [
  {
   "cell_type": "markdown",
   "metadata": {},
   "source": [
    "# Neste Lab vamos aprender como usar o TensorBoard"
   ]
  },
  {
   "cell_type": "code",
   "execution_count": 1,
   "metadata": {},
   "outputs": [],
   "source": [
    "import tensorflow as tf"
   ]
  },
  {
   "cell_type": "markdown",
   "metadata": {},
   "source": [
    "Definindo os tensores"
   ]
  },
  {
   "cell_type": "code",
   "execution_count": 2,
   "metadata": {},
   "outputs": [],
   "source": [
    "a = tf.constant(100, name = \"a\")\n",
    "b = tf.constant(200, name = \"b\")\n",
    "y = tf.Variable(a + b * 2, name = 'y')"
   ]
  },
  {
   "cell_type": "markdown",
   "metadata": {},
   "source": [
    "Inicializando a variável"
   ]
  },
  {
   "cell_type": "code",
   "execution_count": 3,
   "metadata": {},
   "outputs": [],
   "source": [
    "model = tf.global_variables_initializer()"
   ]
  },
  {
   "cell_type": "markdown",
   "metadata": {},
   "source": [
    "Vamos agora executar e utilizar as funções de summary do TF para gerar os arquivos de Log, que serão lidos pelo Tensorboard"
   ]
  },
  {
   "cell_type": "code",
   "execution_count": 4,
   "metadata": {},
   "outputs": [
    {
     "name": "stdout",
     "output_type": "stream",
     "text": [
      "500\n"
     ]
    }
   ],
   "source": [
    "with tf.Session() as session:\n",
    "    merged = tf.summary.merge_all()\n",
    "    writer = tf.summary.FileWriter(\"logs_04\", session.graph)\n",
    "    session.run(model)\n",
    "    print(session.run(y))"
   ]
  },
  {
   "cell_type": "markdown",
   "metadata": {},
   "source": [
    "Abra um terminal do ambiente anaconda \"visaocomp\" utilizando \"OpenTerminal\", navegue até a pasta onde está a pasta \"log_04\" e execute o comando abaixo:\n",
    "    \n",
    "    python -m tensorboard.main --logdir=\"logs_04\"\n",
    "\n",
    "Exemplo:\n",
    "\n",
    "    (visaocomp) C:\\Users\\jhcru\\VC>python -m tensorboard.main --logdir=\"logs_04\"\n",
    "    TensorBoard 1.10.0 at http://DESKTOP-XXXXXXX:6006 (Press CTRL+C to quit)\n",
    "\n",
    "Entre no link fornecido e navegue no Tensorboard, abra o menu \"GRAPHS\" e veja o grafo criado, conforme imagem abaixo"
   ]
  },
  {
   "cell_type": "code",
   "execution_count": null,
   "metadata": {},
   "outputs": [],
   "source": [
    "from IPython.display import Image\n",
    "Image(filename='04_imagem.jpg') "
   ]
  }
 ],
 "metadata": {
  "kernelspec": {
   "display_name": "Python 3",
   "language": "python",
   "name": "python3"
  },
  "language_info": {
   "codemirror_mode": {
    "name": "ipython",
    "version": 3
   },
   "file_extension": ".py",
   "mimetype": "text/x-python",
   "name": "python",
   "nbconvert_exporter": "python",
   "pygments_lexer": "ipython3",
   "version": "3.6.6"
  }
 },
 "nbformat": 4,
 "nbformat_minor": 2
}
